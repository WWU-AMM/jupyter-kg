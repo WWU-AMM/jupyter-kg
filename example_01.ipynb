{
 "cells": [
  {
   "cell_type": "code",
   "execution_count": null,
   "metadata": {},
   "outputs": [],
   "source": [
    "from jupyter_kg import parse_graph, run_sparql_query, visualize_graph"
   ]
  },
  {
   "cell_type": "code",
   "execution_count": null,
   "metadata": {},
   "outputs": [],
   "source": [
    "turtle = '''\n",
    "<http://example.org/person/Mark_Twain>\n",
    "   <http://example.org/relation/author>\n",
    "   <http://example.org/books/Huckleberry_Finn> .\n",
    "'''\n",
    "graph = parse_graph(turtle)"
   ]
  },
  {
   "cell_type": "code",
   "execution_count": null,
   "metadata": {},
   "outputs": [],
   "source": [
    "sparql = '''\n",
    "SELECT ?author ?book WHERE {\n",
    "?author <http://example.org/relation/author>\n",
    "   ?book .\n",
    "}\n",
    "'''\n",
    "run_sparql_query(graph, sparql)"
   ]
  },
  {
   "cell_type": "code",
   "execution_count": null,
   "metadata": {},
   "outputs": [],
   "source": [
    "visualize_graph(graph)"
   ]
  }
 ],
 "metadata": {
  "kernelspec": {
   "display_name": "Python 3 (ipykernel)",
   "language": "python",
   "name": "python3"
  },
  "language_info": {
   "codemirror_mode": {
    "name": "ipython",
    "version": 3
   },
   "file_extension": ".py",
   "mimetype": "text/x-python",
   "name": "python",
   "nbconvert_exporter": "python",
   "pygments_lexer": "ipython3",
   "version": "3.10.7"
  }
 },
 "nbformat": 4,
 "nbformat_minor": 1
}
